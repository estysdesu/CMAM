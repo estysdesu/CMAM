{
 "cells": [
  {
   "cell_type": "code",
   "execution_count": 2,
   "metadata": {},
   "outputs": [],
   "source": [
    ":dep ndarray\n",
    ":dep stl_io"
   ]
  },
  {
   "cell_type": "code",
   "execution_count": 3,
   "metadata": {},
   "outputs": [],
   "source": [
    "use std::fs::OpenOptions;\n",
    "let mut file = OpenOptions::new().read(true).open(\"./part.stl\").unwrap();\n",
    "// let size_hint = stl_io::create_stl_reader(&mut file).unwrap().size_hint();\n",
    "let stl = stl_io::read_stl(&mut file).unwrap();"
   ]
  },
  {
   "cell_type": "code",
   "execution_count": 21,
   "metadata": {},
   "outputs": [],
   "source": [
    "fn slicer(facetVertexIndices: Vec<stl_io::IndexedTriangle>, vertexes: Vec<stl_io::Vertex>, z: f32, th: f32) -> ndarray::Array2<f32> {\n",
    "    ndarray::array![[1., 2.], [3., 4.]]\n",
    "}"
   ]
  },
  {
   "cell_type": "code",
   "execution_count": null,
   "metadata": {},
   "outputs": [],
   "source": []
  }
 ],
 "metadata": {
  "kernelspec": {
   "display_name": "Rust",
   "language": "rust",
   "name": "rust"
  },
  "language_info": {
   "codemirror_mode": "rust",
   "file_extension": ".rs",
   "mimetype": "text/rust",
   "name": "Rust",
   "pygment_lexer": "rust",
   "version": ""
  }
 },
 "nbformat": 4,
 "nbformat_minor": 4
}
