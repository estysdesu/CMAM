{
 "cells": [
  {
   "cell_type": "markdown",
   "metadata": {},
   "source": [
    "# Homework 1"
   ]
  },
  {
   "cell_type": "markdown",
   "metadata": {},
   "source": [
    "TODO:\n",
    "* Problem 1 part 2"
   ]
  },
  {
   "cell_type": "markdown",
   "metadata": {},
   "source": [
    "## Setup"
   ]
  },
  {
   "cell_type": "code",
   "execution_count": 87,
   "metadata": {},
   "outputs": [],
   "source": [
    "import numpy as np\n",
    "import sympy as sym\n",
    "import IPython.display as disp"
   ]
  },
  {
   "cell_type": "markdown",
   "metadata": {},
   "source": [
    "## Problem 1"
   ]
  },
  {
   "cell_type": "code",
   "execution_count": 88,
   "metadata": {},
   "outputs": [],
   "source": [
    "A = sym.Matrix([2, 3, 4])\n",
    "n = sym.Matrix([1, 1, 3])"
   ]
  },
  {
   "cell_type": "markdown",
   "metadata": {},
   "source": [
    "* Plane will have the form $Ax + By + Cz = d$  where d is the distance from the origin"
   ]
  },
  {
   "cell_type": "code",
   "execution_count": 95,
   "metadata": {},
   "outputs": [
    {
     "data": {
      "text/latex": [
       "$\\displaystyle x + y + 3 z = 17$"
      ],
      "text/plain": [
       "Eq(x + y + 3*z, 17)"
      ]
     },
     "metadata": {},
     "output_type": "display_data"
    },
    {
     "data": {
      "text/latex": [
       "$\\displaystyle d = 17$"
      ],
      "text/plain": [
       "<IPython.core.display.Math object>"
      ]
     },
     "metadata": {},
     "output_type": "display_data"
    }
   ],
   "source": [
    "x, y, z = sym.symbols(\"x, y, z\")\n",
    "P = sym.Matrix([x, y, z])\n",
    "AP = P - A\n",
    "eqnPlane = sym.simplify(sym.Eq(sym.Matrix.dot(AP, n), 0))\n",
    "disp.display(eqnPlane)\n",
    "d = eqnPlane.rhs\n",
    "disp.display(disp.Math(sym.latex(f\"d = {d}\")))"
   ]
  },
  {
   "cell_type": "code",
   "execution_count": 96,
   "metadata": {},
   "outputs": [
    {
     "data": {
      "text/latex": [
       "$\\displaystyle \\left[\\begin{matrix}\\lambda\\\\\\lambda\\\\3 \\lambda\\end{matrix}\\right]$"
      ],
      "text/plain": [
       "Matrix([\n",
       "[  \\lambda],\n",
       "[  \\lambda],\n",
       "[3*\\lambda]])"
      ]
     },
     "metadata": {},
     "output_type": "display_data"
    }
   ],
   "source": [
    "lmda, P = sym.symbols(\"\\lambda, P\")\n",
    "P = 17\n",
    "eqnPlane = sym.Matrix([0, 0, 0]) + sym.Matrix([1, 1, 3]) * lmda\n",
    "disp.display(eqnPlane)\n",
    "# eqnPlane = sym.Eq(P, sym.Matrix([1, 1, 1]).dot(sym.Array([0, 0, 0]) + sym.Array([1, 1, 3]) * lmda))\n"
   ]
  },
  {
   "cell_type": "markdown",
   "metadata": {},
   "source": [
    "## Problem 2"
   ]
  },
  {
   "cell_type": "code",
   "execution_count": 82,
   "metadata": {},
   "outputs": [],
   "source": [
    "A = np.array([1, 2, 3])\n",
    "B = np.array([2, 1, 2])\n",
    "C = np.array([1, 3, 4])\n",
    "D = np.array([4, 4, 1])\n",
    "AB = B - A\n",
    "CD = D - C"
   ]
  },
  {
   "cell_type": "markdown",
   "metadata": {},
   "source": [
    "* Shortest distance between $AB$ and $CD$ will be perpendicular to both $AB$ and $CD$."
   ]
  },
  {
   "cell_type": "code",
   "execution_count": 83,
   "metadata": {},
   "outputs": [],
   "source": [
    "n = np.cross(AB, CD)"
   ]
  },
  {
   "cell_type": "markdown",
   "metadata": {},
   "source": [
    "* Assume two planes, one plane along each line with a normal $n$, then the distance between the lines is the distance between planes"
   ]
  },
  {
   "cell_type": "code",
   "execution_count": 85,
   "metadata": {},
   "outputs": [
    {
     "data": {
      "text/latex": [
       "$\\displaystyle d = 0.7071067811865475$"
      ],
      "text/plain": [
       "<IPython.core.display.Math object>"
      ]
     },
     "metadata": {},
     "output_type": "display_data"
    }
   ],
   "source": [
    "u = n / np.linalg.norm(n)\n",
    "AC = C - A\n",
    "d = np.abs(np.dot(AC, u))\n",
    "disp.display(disp.Math(sym.latex(f\"d = {d}\")))"
   ]
  },
  {
   "cell_type": "code",
   "execution_count": null,
   "metadata": {},
   "outputs": [],
   "source": []
  }
 ],
 "metadata": {
  "kernelspec": {
   "display_name": "Python 3",
   "language": "python",
   "name": "python3"
  },
  "language_info": {
   "codemirror_mode": {
    "name": "ipython",
    "version": 3
   },
   "file_extension": ".py",
   "mimetype": "text/x-python",
   "name": "python",
   "nbconvert_exporter": "python",
   "pygments_lexer": "ipython3",
   "version": "3.8.0"
  }
 },
 "nbformat": 4,
 "nbformat_minor": 4
}
