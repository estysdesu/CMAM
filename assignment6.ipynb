{
 "cells": [
  {
   "cell_type": "code",
   "execution_count": 43,
   "metadata": {},
   "outputs": [
    {
     "ename": "Error",
     "evalue": "error: no matching package named `ndarray_stats` found",
     "output_type": "error",
     "traceback": [
      "error: no matching package named `ndarray_stats` found"
     ]
    }
   ],
   "source": [
    ":dep stl_io\n",
    "extern crate stl_io;\n",
    "\n",
    ":dep ndarray\n",
    "extern crate ndarray;\n",
    "use ndarray::prelude::*;\n",
    "\n",
    ":dep ndarray_stats\n",
    "extern crate ndarray_stats;\n",
    "use ndarray_stats::QuantileExt;\n",
    "\n",
    "use std::fs::OpenOptions;"
   ]
  },
  {
   "cell_type": "code",
   "execution_count": 50,
   "metadata": {},
   "outputs": [
    {
     "data": {
      "text/plain": [
       "4.0"
      ]
     },
     "execution_count": 50,
     "metadata": {},
     "output_type": "execute_result"
    }
   ],
   "source": [
    "let mut file = OpenOptions::new().read(true).open(\"./part.stl\").unwrap();\n",
    "let stl = stl_io::read_stl(&mut file).unwrap();\n",
    "\n",
    "// fn slicer(\n",
    "//     facetVertexIndices: Vec<stl_io::IndexedTriangle>, \n",
    "//     vertexes: Vec<stl_io::Vertex>, \n",
    "//     z: f32, th: f32\n",
    "// ) -> Array2<f32> {\n",
    "//     array![facetVertexIndices];\n",
    "//     let test = array![vec![1., 2.], vec![3., 4.]];\n",
    "//     println!(\"{:?}\", test);\n",
    "//     array![[1., 2.], [3., 4.]]\n",
    "// }\n",
    "// slicer(stl.faces, stl.vertices, 5.0, 1.0);\n",
    "\n",
    "let a = array![[1., 2.], [3., 4.]];\n",
    "a.max().unwrap()"
   ]
  },
  {
   "cell_type": "code",
   "execution_count": 51,
   "metadata": {},
   "outputs": [
    {
     "ename": "Error",
     "evalue": "expected one of `!`, `(`, `+`, `::`, `;`, `<`, or `]`, found `,`",
     "output_type": "error",
     "traceback": [
      "    faces: Vec<[usize, 3]>,",
      "                     ^ expected one of 7 possible tokens",
      "expected one of `!`, `(`, `+`, `::`, `;`, `<`, or `]`, found `,`"
     ]
    },
    {
     "ename": "Error",
     "evalue": "expected one of `...`, `..=`, `..`, `:`, or `|`, found `]`",
     "output_type": "error",
     "traceback": [
      "    faces: Vec<[usize, 3]>,",
      "                        ^ expected one of `...`, `..=`, `..`, `:`, or `|`",
      "expected one of `...`, `..=`, `..`, `:`, or `|`, found `]`"
     ]
    },
    {
     "ename": "Error",
     "evalue": "expected `;` or `{`, found `]`",
     "output_type": "error",
     "traceback": [
      "    faces: Vec<[usize, 3]>,",
      "                        ^ expected `;` or `{`",
      "expected `;` or `{`, found `]`"
     ]
    }
   ],
   "source": [
    "fn slicer<T: PartialOrd>(\n",
    "    faces: Vec<[usize, 3]>,\n",
    "    vertices: Vec<[T, 3]>,\n",
    "    z_height: T,\n",
    "    thickness: T) -> Array2<f32> {\n",
    "        let layer_cnt = ( vertices.max().unwrap() - vertices.min().unwrap() ) / thickness;\n",
    "    unimplemented!();\n",
    "}\n"
   ]
  },
  {
   "cell_type": "code",
   "execution_count": 52,
   "metadata": {},
   "outputs": [
    {
     "ename": "Error",
     "evalue": "expected one of `!`, `(`, `+`, `::`, `;`, `<`, or `]`, found `,`",
     "output_type": "error",
     "traceback": [
      "let b: Vec<[usize, 3]> = vec![[1, 1, 1]]",
      "                 ^ expected one of 7 possible tokens",
      "let b: Vec<[usize, 3]> = vec![[1, 1, 1]]",
      "    ^ while parsing the type for `b`",
      "expected one of `!`, `(`, `+`, `::`, `;`, `<`, or `]`, found `,`"
     ]
    }
   ],
   "source": [
    "let b: Vec<[usize, 3]> = vec![[1, 1, 1]]"
   ]
  },
  {
   "cell_type": "code",
   "execution_count": 55,
   "metadata": {},
   "outputs": [
    {
     "data": {
      "text/plain": [
       "[1, 1, 1]"
      ]
     },
     "execution_count": 55,
     "metadata": {},
     "output_type": "execute_result"
    }
   ],
   "source": [
    "[1; 3]"
   ]
  },
  {
   "cell_type": "code",
   "execution_count": 58,
   "metadata": {},
   "outputs": [
    {
     "data": {
      "text/plain": [
       "-inf"
      ]
     },
     "execution_count": 58,
     "metadata": {},
     "output_type": "execute_result"
    }
   ],
   "source": [
    "-1./0.\n"
   ]
  },
  {
   "cell_type": "code",
   "execution_count": 60,
   "metadata": {},
   "outputs": [
    {
     "data": {
      "text/plain": [
       "3.0"
      ]
     },
     "execution_count": 60,
     "metadata": {},
     "output_type": "execute_result"
    }
   ],
   "source": [
    "let c = vec![1., 2., 3., 3., 2., 1., 0.];\n",
    "c.iter().cloned().fold(0./0., f32::max)"
   ]
  },
  {
   "cell_type": "code",
   "execution_count": null,
   "metadata": {},
   "outputs": [],
   "source": []
  }
 ],
 "metadata": {
  "kernelspec": {
   "display_name": "Rust",
   "language": "rust",
   "name": "rust"
  },
  "language_info": {
   "codemirror_mode": "rust",
   "file_extension": ".rs",
   "mimetype": "text/rust",
   "name": "Rust",
   "pygment_lexer": "rust",
   "version": ""
  }
 },
 "nbformat": 4,
 "nbformat_minor": 4
}
