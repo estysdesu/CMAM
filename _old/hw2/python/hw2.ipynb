{
 "cells": [
  {
   "cell_type": "code",
   "execution_count": 2,
   "metadata": {},
   "outputs": [
    {
     "name": "stdout",
     "output_type": "stream",
     "text": [
      "[NbConvertApp] Converting notebook hw2.ipynb to script\n",
      "[NbConvertApp] Writing 6332 bytes to hw2.py\n",
      "[NbConvertApp] Converting notebook hw2.ipynb to pdf\n",
      "[NbConvertApp] Writing 46264 bytes to ./notebook.tex\n",
      "[NbConvertApp] Building PDF\n",
      "[NbConvertApp] Running xelatex 3 times: ['xelatex', './notebook.tex', '-quiet']\n",
      "[NbConvertApp] Running bibtex 1 time: ['bibtex', './notebook']\n",
      "[NbConvertApp] WARNING | bibtex had problems, most likely because there were no citations\n",
      "[NbConvertApp] PDF successfully created\n",
      "[NbConvertApp] Writing 45423 bytes to hw2.pdf\n"
     ]
    }
   ],
   "source": [
    "!jupyter nbconvert --to script hw2.ipynb --output hw2\n",
    "!jupyter nbconvert --to pdf hw2.ipynb --output hw2"
   ]
  },
  {
   "cell_type": "markdown",
   "metadata": {},
   "source": [
    "# CMAM hw2"
   ]
  },
  {
   "cell_type": "code",
   "execution_count": 3,
   "metadata": {},
   "outputs": [],
   "source": [
    "import numpy as np\n",
    "from collections import abc\n",
    "    \n",
    "def normalize_vector(vector: abc.Collection) -> np.ndarray:\n",
    "    return vector/np.linalg.norm(vector)"
   ]
  },
  {
   "cell_type": "markdown",
   "metadata": {},
   "source": [
    "## Problem 1"
   ]
  },
  {
   "cell_type": "code",
   "execution_count": null,
   "metadata": {},
   "outputs": [],
   "source": []
  },
  {
   "cell_type": "markdown",
   "metadata": {},
   "source": [
    "## Problem 2"
   ]
  },
  {
   "cell_type": "code",
   "execution_count": null,
   "metadata": {},
   "outputs": [],
   "source": []
  },
  {
   "cell_type": "markdown",
   "metadata": {},
   "source": [
    "## Problem 3"
   ]
  },
  {
   "cell_type": "code",
   "execution_count": 4,
   "metadata": {},
   "outputs": [
    {
     "data": {
      "application/vnd.jupyter.widget-view+json": {
       "model_id": "f3b026fafd42412fb1fb7a03a07580aa",
       "version_major": 2,
       "version_minor": 0
      },
      "text/plain": [
       "Canvas(toolbar=Toolbar(toolitems=[('Home', 'Reset original view', 'home', 'home'), ('Back', 'Back to previous …"
      ]
     },
     "metadata": {},
     "output_type": "display_data"
    },
    {
     "name": "stdout",
     "output_type": "stream",
     "text": [
      "Promblem 3a - Tangent vector = [-3.72, 8.2, -2.44], Unit tangent vector = [-0.399, 0.879, -0.262]\n"
     ]
    },
    {
     "data": {
      "application/vnd.jupyter.widget-view+json": {
       "model_id": "3c2f3934b45544b8ace5afaf5e515278",
       "version_major": 2,
       "version_minor": 0
      },
      "text/plain": [
       "Canvas(toolbar=Toolbar(toolitems=[('Home', 'Reset original view', 'home', 'home'), ('Back', 'Back to previous …"
      ]
     },
     "metadata": {},
     "output_type": "display_data"
    }
   ],
   "source": [
    "from functools import reduce\n",
    "from collections import abc\n",
    "from typing import Union\n",
    "import numpy as np\n",
    "from mpl_toolkits import mplot3d\n",
    "import matplotlib.pyplot as plt\n",
    "%matplotlib widget\n",
    "\n",
    "class HermiteCubicCurve():\n",
    "    \"\"\"An implementation of a Hermite Cubic Curve from two end points and their respective tangent vectors.\"\"\"\n",
    "    \n",
    "    P0: abc.Collection\n",
    "    M0: abc.Collection\n",
    "    P1: abc.Collection\n",
    "    M1: abc.Collection\n",
    "    B: np.ndarray\n",
    "        \n",
    "    M_sub_H = np.array((\n",
    "        (2, -2, 1, 1),\n",
    "        (-3, 3, -2, -1),\n",
    "        (0, 0, 1, 0),\n",
    "        (1, 0, 0, 0)\n",
    "    ))\n",
    "        \n",
    "    def __init__(self, P0: abc.Collection, M0: abc.Collection, P1: abc.Collection, M1: abc.Collection):\n",
    "        self.P0, self.M0, self.P1, self.M1 = P0, M0, P1, M1\n",
    "        self.B = np.array((P0, P1, M0, M1))\n",
    "    \n",
    "    def get_point_from_u_value(self, u: Union[int, float]) -> np.ndarray:\n",
    "        U = np.array((u**3, u**2, u, 1)).transpose()\n",
    "        P = reduce(np.dot, (U, self.MsubH, self.B))\n",
    "        return P\n",
    "\n",
    "    def get_points(self, n: int = 50) -> np.ndarray:\n",
    "        step = 1.0/n\n",
    "        u = np.arange(0, 1+step, step)\n",
    "        U = np.array((u**3, u**2, u, np.ones(len(u)))).transpose()\n",
    "        P = reduce(np.dot, (U, self.M_sub_H, self.B))\n",
    "        return P\n",
    "\n",
    "    def get_tangent_vector_from_u_value(self, u: Union[int, float]) -> np.ndarray:\n",
    "        U_sup_u = np.array((3*u**2, 2*u, 1, 0)).transpose()\n",
    "        V = reduce(np.dot, (U_sup_u, self.M_sub_H, self.B))\n",
    "        return V\n",
    "   \n",
    "    def get_tangent_vectors(self, n: int = 50) -> np.ndarray:\n",
    "        step = 1.0/n\n",
    "        u = np.arange(0, 1+step, step)\n",
    "        U_sup_u = np.array((3*u**2, 2*u, np.ones(len(u)), 0)).transpose()\n",
    "        V = reduce(np.dot, (U_sup_u, self.M_sub_H, self.B))\n",
    "        return V\n",
    "\n",
    "##### PART A #####\n",
    "P1 = np.array([4, 2, 6])\n",
    "M1 = np.array([3, 1, -1])\n",
    "P2 = np.array([2, 8, 4])\n",
    "M2 = np.array([-1, 1, -1])\n",
    "\n",
    "curve1 = HermiteCubicCurve(P1, M1, P2, M2)\n",
    "points1 = curve1.get_points()\n",
    "\n",
    "fig = plt.figure()\n",
    "ax = plt.axes(projection = \"3d\")\n",
    "ax.plot3D(points1[:, 0], points1[:, 1], points1[:, 2])\n",
    "ax.set_title(\"Problem 3a - Hermite Cubic Curve\")\n",
    "plt.show()\n",
    "\n",
    "VsupU = curve1.get_tangent_vector_from_u_value(.6)\n",
    "VsupUsubNorm = normalize_vector(VsupU)\n",
    "print(f\"Promblem 3a - Tangent vector = [{VsupU[0]:.3}, {VsupU[1]:.3}, {VsupU[2]:.3}], Unit tangent vector = [{VsupUsubNorm[0]:.3}, {VsupUsubNorm[1]:.3}, {VsupUsubNorm[2]:.3}]\")\n",
    "\n",
    "##### PART B #####\n",
    "P3 = P2.copy() # C1 continuity\n",
    "M3 = M2.copy() # C1 continuity\n",
    "P4 = np.array([-2, 5, 4])\n",
    "M4 = np.array([1, 2, -1])\n",
    "\n",
    "curve2 = HermiteCubicCurve(P3, M3, P4, M4)\n",
    "points2 = curve2.get_points()\n",
    "\n",
    "fig = plt.figure()\n",
    "ax = plt.axes(projection = \"3d\")\n",
    "ax.plot3D(points1[:, 0], points1[:, 1], points1[:, 2])\n",
    "ax.plot3D(points2[:, 0], points2[:, 1], points2[:, 2])\n",
    "ax.set_title(\"Problem 3b - Joint Hermite Cubic Curves with C1 Continuity\")\n",
    "plt.show()"
   ]
  },
  {
   "cell_type": "markdown",
   "metadata": {},
   "source": [
    "## Problem 4"
   ]
  },
  {
   "cell_type": "code",
   "execution_count": 5,
   "metadata": {},
   "outputs": [
    {
     "data": {
      "application/vnd.jupyter.widget-view+json": {
       "model_id": "ad8c02d63ee549dfabc7fe7cd9641c03",
       "version_major": 2,
       "version_minor": 0
      },
      "text/plain": [
       "Canvas(toolbar=Toolbar(toolitems=[('Home', 'Reset original view', 'home', 'home'), ('Back', 'Back to previous …"
      ]
     },
     "metadata": {},
     "output_type": "display_data"
    },
    {
     "data": {
      "application/vnd.jupyter.widget-view+json": {
       "model_id": "76f4e5b67f664da6b4911a28f36a481d",
       "version_major": 2,
       "version_minor": 0
      },
      "text/plain": [
       "Canvas(toolbar=Toolbar(toolitems=[('Home', 'Reset original view', 'home', 'home'), ('Back', 'Back to previous …"
      ]
     },
     "metadata": {},
     "output_type": "display_data"
    },
    {
     "name": "stdout",
     "output_type": "stream",
     "text": [
      "Promblem 4b - Degree of curve = 4\n",
      "Promblem 4b - Tangent vector @ 0.0 = [0.0, 8.0, 8.0]\n",
      "Promblem 4b - Tangent vector @ 0.5 = [2.5, 0.5, -1.5]\n",
      "Promblem 4b - Tangent vector @ 0.75 = [-0.562, 2.94, 0.688]\n",
      "Promblem 4b - Tangent vector @ 1.0 = [-4.0, 8.0, 4.0]\n"
     ]
    }
   ],
   "source": [
    "from collections import abc\n",
    "import numpy as np\n",
    "from typing import Union\n",
    "\n",
    "class BezierCurve():\n",
    "    \"\"\"An implementation of a Bezier Curve from an arbitrary number of control points. Algorithm based on Bernstein Polynomial (implementation from https://web.mit.edu/hyperbook/Patrikalakis-Maekawa-Cho/node9.html)\"\"\"\n",
    "    # adapt for DeCasteljau's Algo https://web.mit.edu/hyperbook/Patrikalakis-Maekawa-Cho/node13.html\n",
    "    \n",
    "    P_sub_I: np.ndarray\n",
    "    n: int\n",
    "        \n",
    "    def __init__(self, *args: abc.Collection):\n",
    "        self.P_sub_I = np.array(args)\n",
    "        self.n = len(args) - 1\n",
    "    \n",
    "    def __solve_Bernstein_Polynomial_value(self, i, n, u):\n",
    "        if (n == self.n - 1 and (i == -1 or i == self.n)): # n can only equal self.n - 1 during tangent case\n",
    "            return 0\n",
    "        A_term = np.math.factorial(n)/(np.math.factorial(i)*np.math.factorial(n-i))\n",
    "        B_term = (1-u)**(n-i)\n",
    "        C_term = u**i\n",
    "        return A_term * B_term * C_term\n",
    "       \n",
    "    def get_point_from_u_value(self, u: Union[int, float]) -> np.ndarray:\n",
    "        P = np.zeros(len(self.P_sub_I[0]))\n",
    "        for i in range(self.n+1):\n",
    "            B = self.__solve_Bernstein_Polynomial_value(i, self.n, u)\n",
    "            P += self.P_sub_I[i]*B\n",
    "        return P\n",
    "\n",
    "    def get_points(self, n: int = 50) -> np.ndarray:\n",
    "        step = 1.0/n\n",
    "        u = np.arange(0, 1+step, step)\n",
    "        P = np.array([self.get_point_from_u_value(u_val) for u_val in u])\n",
    "        return P\n",
    "    \n",
    "    def get_tangent_vector_from_u_value(self, u: Union[int, float]) -> np.ndarray:\n",
    "        V = np.zeros(len(self.P_sub_I[0]))\n",
    "        for i in range(self.n+1):\n",
    "            dB_over_dU = self.n * (self.__solve_Bernstein_Polynomial_value(i-1, self.n-1, u) - self.__solve_Bernstein_Polynomial_value(i, self.n-1, u))\n",
    "            V += self.P_sub_I[i]*dB_over_dU\n",
    "        return V\n",
    "\n",
    "    def get_tangent_vectors(self, n: int = 50) -> np.ndarray:\n",
    "        step = 1.0/n\n",
    "        u = np.arange(0, 1+step, step)\n",
    "        V = np.array([self.get_tangent_vector_from_u_value(u_val) for u_val in u])\n",
    "        return V\n",
    "   \n",
    "##### PART A #####\n",
    "A = np.array([1, 1, 1])\n",
    "B = np.array([1, 3, 3])\n",
    "C = np.array([3, 2, 1])\n",
    "E = np.array([2, 4, 2])\n",
    "\n",
    "curve1 = BezierCurve(A, B, C, E)\n",
    "points1 = curve1.get_points()\n",
    "\n",
    "fig = plt.figure()\n",
    "ax = plt.axes(projection = \"3d\")\n",
    "ax.plot3D(points1[:, 0], points1[:, 1], points1[:, 2])\n",
    "ax.set_title(\"Problem 4a - Bezier Curve\")\n",
    "plt.show()\n",
    "\n",
    "##### PART B #####\n",
    "D = C.copy() \n",
    "\n",
    "curve2 = BezierCurve(A, B, C, D, E)\n",
    "points2 = curve2.get_points()\n",
    "\n",
    "fig = plt.figure()\n",
    "ax = plt.axes(projection = \"3d\")\n",
    "ax.plot3D(points2[:, 0], points2[:, 1], points2[:, 2])\n",
    "ax.set_title(\"Problem 4b - Bezier Curve with Duplicate C\")\n",
    "plt.show()\n",
    "\n",
    "print(f\"Promblem 4b - Degree of curve = {curve2.n}\")\n",
    "U = np.array([0, .5, .75, 1])\n",
    "for u_val in U:\n",
    "    VsupU = curve2.get_tangent_vector_from_u_value(u_val)\n",
    "    print(f\"Promblem 4b - Tangent vector @ {u_val} = [{VsupU[0]:.3}, {VsupU[1]:.3}, {VsupU[2]:.3}]\")\n",
    "\n",
    "##### PART C #####"
   ]
  },
  {
   "cell_type": "markdown",
   "metadata": {},
   "source": [
    "## Problem 5"
   ]
  },
  {
   "cell_type": "code",
   "execution_count": null,
   "metadata": {},
   "outputs": [],
   "source": []
  }
 ],
 "metadata": {
  "kernelspec": {
   "display_name": "Python 3",
   "language": "python",
   "name": "python3"
  },
  "language_info": {
   "codemirror_mode": {
    "name": "ipython",
    "version": 3
   },
   "file_extension": ".py",
   "mimetype": "text/x-python",
   "name": "python",
   "nbconvert_exporter": "python",
   "pygments_lexer": "ipython3",
   "version": "3.8.0"
  }
 },
 "nbformat": 4,
 "nbformat_minor": 4
}
